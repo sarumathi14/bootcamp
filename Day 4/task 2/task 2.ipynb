{
 "cells": [
  {
   "cell_type": "code",
   "execution_count": 2,
   "metadata": {},
   "outputs": [
    {
     "name": "stdout",
     "output_type": "stream",
     "text": [
      "Requirement already satisfied: pandas in c:\\users\\sarum\\appdata\\local\\programs\\python\\python312\\lib\\site-packages (2.2.3)\n",
      "Requirement already satisfied: numpy in c:\\users\\sarum\\appdata\\local\\programs\\python\\python312\\lib\\site-packages (2.2.3)\n",
      "Requirement already satisfied: seaborn in c:\\users\\sarum\\appdata\\local\\programs\\python\\python312\\lib\\site-packages (0.13.2)\n",
      "Requirement already satisfied: matplotlib in c:\\users\\sarum\\appdata\\local\\programs\\python\\python312\\lib\\site-packages (3.10.0)\n",
      "Requirement already satisfied: python-dateutil>=2.8.2 in c:\\users\\sarum\\appdata\\roaming\\python\\python312\\site-packages (from pandas) (2.9.0.post0)\n",
      "Requirement already satisfied: pytz>=2020.1 in c:\\users\\sarum\\appdata\\local\\programs\\python\\python312\\lib\\site-packages (from pandas) (2025.1)\n",
      "Requirement already satisfied: tzdata>=2022.7 in c:\\users\\sarum\\appdata\\local\\programs\\python\\python312\\lib\\site-packages (from pandas) (2025.1)\n",
      "Requirement already satisfied: contourpy>=1.0.1 in c:\\users\\sarum\\appdata\\local\\programs\\python\\python312\\lib\\site-packages (from matplotlib) (1.3.1)\n",
      "Requirement already satisfied: cycler>=0.10 in c:\\users\\sarum\\appdata\\local\\programs\\python\\python312\\lib\\site-packages (from matplotlib) (0.12.1)\n",
      "Requirement already satisfied: fonttools>=4.22.0 in c:\\users\\sarum\\appdata\\local\\programs\\python\\python312\\lib\\site-packages (from matplotlib) (4.56.0)\n",
      "Requirement already satisfied: kiwisolver>=1.3.1 in c:\\users\\sarum\\appdata\\local\\programs\\python\\python312\\lib\\site-packages (from matplotlib) (1.4.8)\n",
      "Requirement already satisfied: packaging>=20.0 in c:\\users\\sarum\\appdata\\roaming\\python\\python312\\site-packages (from matplotlib) (24.2)\n",
      "Requirement already satisfied: pillow>=8 in c:\\users\\sarum\\appdata\\local\\programs\\python\\python312\\lib\\site-packages (from matplotlib) (11.1.0)\n",
      "Requirement already satisfied: pyparsing>=2.3.1 in c:\\users\\sarum\\appdata\\local\\programs\\python\\python312\\lib\\site-packages (from matplotlib) (3.2.1)\n",
      "Requirement already satisfied: six>=1.5 in c:\\users\\sarum\\appdata\\roaming\\python\\python312\\site-packages (from python-dateutil>=2.8.2->pandas) (1.17.0)\n",
      "Note: you may need to restart the kernel to use updated packages.\n"
     ]
    },
    {
     "name": "stderr",
     "output_type": "stream",
     "text": [
      "\n",
      "[notice] A new release of pip is available: 24.2 -> 25.0.1\n",
      "[notice] To update, run: python.exe -m pip install --upgrade pip\n"
     ]
    }
   ],
   "source": [
    "pip install pandas numpy seaborn matplotlib"
   ]
  },
  {
   "cell_type": "code",
   "execution_count": 5,
   "metadata": {},
   "outputs": [
    {
     "name": "stdout",
     "output_type": "stream",
     "text": [
      "\n",
      "Dataset Overview:\n",
      "<class 'pandas.core.frame.DataFrame'>\n",
      "RangeIndex: 20 entries, 0 to 19\n",
      "Data columns (total 8 columns):\n",
      " #   Column           Non-Null Count  Dtype \n",
      "---  ------           --------------  ----- \n",
      " 0   CustomerID       20 non-null     int64 \n",
      " 1   Gender           20 non-null     object\n",
      " 2   SeniorCitizen    20 non-null     int64 \n",
      " 3   Contract         20 non-null     object\n",
      " 4   PaymentMethod    20 non-null     object\n",
      " 5   InternetService  20 non-null     object\n",
      " 6   State            20 non-null     object\n",
      " 7   Churn            20 non-null     object\n",
      "dtypes: int64(2), object(6)\n",
      "memory usage: 1.4+ KB\n",
      "None\n",
      "\n",
      "Sample Data:\n",
      "   CustomerID  Gender  SeniorCitizen        Contract  PaymentMethod  \\\n",
      "0           1    Male              1        One year  Bank transfer   \n",
      "1           2  Female              1  Month-to-month   Mailed check   \n",
      "2           3    Male              0  Month-to-month   Mailed check   \n",
      "3           4  Female              1  Month-to-month    Credit card   \n",
      "4           5    Male              1  Month-to-month  Bank transfer   \n",
      "\n",
      "  InternetService       State Churn  \n",
      "0     Fiber optic  California    No  \n",
      "1             DSL     Florida    No  \n",
      "2             DSL  California    No  \n",
      "3     Fiber optic    New York    No  \n",
      "4              No       Texas    No  \n",
      "\n",
      "Churn Distribution:\n",
      "Churn\n",
      "No     0.7\n",
      "Yes    0.3\n",
      "Name: proportion, dtype: float64\n"
     ]
    }
   ],
   "source": [
    "import pandas as pd\n",
    "import numpy as np\n",
    "import seaborn as sns\n",
    "\n",
    "data = {\n",
    "    \"CustomerID\": range(1, 21),\n",
    "    \"Gender\": np.random.choice([\"Male\", \"Female\"], size=20),\n",
    "    \"SeniorCitizen\": np.random.choice([0, 1], size=20),  # 0 = Not senior, 1 = Senior\n",
    "    \"Contract\": np.random.choice([\"Month-to-month\", \"One year\", \"Two year\"], size=20),\n",
    "    \"PaymentMethod\": np.random.choice([\"Electronic check\", \"Mailed check\", \"Bank transfer\", \"Credit card\"], size=20),\n",
    "    \"InternetService\": np.random.choice([\"DSL\", \"Fiber optic\", \"No\"], size=20),\n",
    "    \"State\": np.random.choice([\"California\", \"Texas\", \"New York\", \"Florida\"], size=20),\n",
    "    \"Churn\": np.random.choice([\"Yes\", \"No\"], size=20, p=[0.3, 0.7])  # Imbalanced churn\n",
    "}\n",
    "df = pd.DataFrame(data)\n",
    "print(\"\\nDataset Overview:\")\n",
    "print(df.info())\n",
    "print(\"\\nSample Data:\")\n",
    "print(df.head())\n",
    "print(\"\\nChurn Distribution:\")\n",
    "print(df[\"Churn\"].value_counts(normalize=True))\n",
    "\n",
    "\n",
    "    "
   ]
  }
 ],
 "metadata": {
  "kernelspec": {
   "display_name": "Python 3",
   "language": "python",
   "name": "python3"
  },
  "language_info": {
   "codemirror_mode": {
    "name": "ipython",
    "version": 3
   },
   "file_extension": ".py",
   "mimetype": "text/x-python",
   "name": "python",
   "nbconvert_exporter": "python",
   "pygments_lexer": "ipython3",
   "version": "3.12.6"
  }
 },
 "nbformat": 4,
 "nbformat_minor": 2
}
