{
 "cells": [
  {
   "cell_type": "code",
   "execution_count": 1,
   "metadata": {},
   "outputs": [
    {
     "name": "stdout",
     "output_type": "stream",
     "text": [
      "9:00 AM\n",
      "2:00 PM\n",
      "Final (N), Ahmedabad, May 29, 2022, Indian Premier League\n",
      "18.16McCoy to Gill,  SIX runssealed with a six! Short down the leg side and Gill pulls into the stands over deep square legSee all photos\n",
      "6\n",
      "17.62Ashwin to Miller,  2 runsMiller looks to finish it with a six. Aims to hit this length ball over deep midwicket but gets an inside edge past the stumps\n",
      "2\n",
      "17.51Ashwin to Gill,  1 runslower and wider. A length ball outside off. Gills cuts it towards deep point\n",
      "1\n",
      "17.4•Ashwin to Gill, no runlength ball around off and middle, flicked towards square leg\n",
      "•\n",
      "17.31Ashwin to Miller,  1 runlooked like a carrom ball. Goes back and punches it towards sweeper cover\n",
      "1\n",
      "17.21Ashwin to Gill,  1 runlength outside off and spinning in. Goes back and works it towards midwicket\n",
      "1\n",
      "17.1•Ashwin to Gill, no runa length ball around off, Gill goes revere and hits it towards cover\n",
      "•\n",
      "16.62Prasidh to Miller,  2 runslength ball on the stumps, flicked towards deep square leg for a couple\n",
      "2\n",
      "16.54Prasidh to Miller, FOUR runsshort of length outside off, goes for the cut, gets a thick edge to the right of third man. McCoy puts in a desperate dive but in vain\n",
      "4\n",
      "16.51wPrasidh to Miller, 1 wideanother short one from Prasidh but too high this time. Miller lets it go for a wide\n",
      "1w\n",
      "16.44Prasidh to Miller, FOUR runsshort this time, in the line of the stumps. Miller swivels to pull, gets a top edge and it goes fine for four\n",
      "4\n",
      "16.3•Prasidh to Miller, no runlength ball angling across. Fails to connect the cut\n",
      "•\n",
      "16.22Prasidh to Miller,  2 runsshort of length outside off, cuts it behind point. McCoy sprints to his left and puts in a sliding stop\n",
      "2\n",
      "16.1•Prasidh to Miller, no runshort of length around off and middle. Defended\n",
      "•\n",
      "15.61Ashwin to Miller,  1 runlength ball on the stumps, turned towards square leg\n",
      "1\n",
      "15.51Ashwin to Gill,  1 runlength ball outside off, spinning in big. Gill waits and drops it towards covers. Was hesitant to take off but Miller calls him and it's an easy single in the end\n",
      "1\n",
      "15.41Ashwin to Miller,  1 runlength ball on the stumps, works it behind square leg\n",
      "1\n",
      "15.36Ashwin to Miller,  SIX runstossed up on middle and leg. Miller clears his front leg and lofts it over deep midwicket. Into the stands\n",
      "6\n",
      "15.21Ashwin to Gill,  1 runlength ball around off, Gill once again places it towards midwicket but this time long-on comes across to field it. 100 comes up for Titans\n",
      "1\n",
      "15.12Ashwin to Gill,  2 runslength ball on the stumps, nudged towards midwicket. The fielder is at the boundary, which allows Gill to come back for the second\n",
      "2\n",
      "<1 / 3>\n"
     ]
    }
   ],
   "source": [
    "import requests\n",
    "from bs4 import BeautifulSoup\n",
    "\n",
    "# URL of the ball-by-ball commentary page\n",
    "url = \"https://www.espncricinfo.com/series/indian-premier-league-2022-1298423/gujarat-titans-vs-rajasthan-royals-final-1312200/ball-by-ball-commentary\"\n",
    "\n",
    "# Headers to mimic a browser visit\n",
    "headers = {\n",
    "    \"User-Agent\": \"Mozilla/5.0 (Windows NT 10.0; Win64; x64) AppleWebKit/537.36 (KHTML, like Gecko) Chrome/91.0.4472.124 Safari/537.36\"\n",
    "}\n",
    "\n",
    "# Send request\n",
    "response = requests.get(url, headers=headers)\n",
    "soup = BeautifulSoup(response.text, \"html.parser\")\n",
    "\n",
    "# Extract commentary data\n",
    "balls = soup.find_all(\"div\", class_=\"ds-text-tight-m\")\n",
    "\n",
    "for ball in balls:\n",
    "    print(ball.text.strip())  # This prints each commentary line\n",
    "\n",
    "# Note: ESPNcricinfo uses JavaScript to load dynamic content, so you may need Selenium for full scraping.\n"
   ]
  }
 ],
 "metadata": {
  "kernelspec": {
   "display_name": "Python 3",
   "language": "python",
   "name": "python3"
  },
  "language_info": {
   "codemirror_mode": {
    "name": "ipython",
    "version": 3
   },
   "file_extension": ".py",
   "mimetype": "text/x-python",
   "name": "python",
   "nbconvert_exporter": "python",
   "pygments_lexer": "ipython3",
   "version": "3.13.2"
  }
 },
 "nbformat": 4,
 "nbformat_minor": 2
}
