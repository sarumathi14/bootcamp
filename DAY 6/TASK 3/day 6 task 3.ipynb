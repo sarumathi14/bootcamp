{
 "cells": [
  {
   "cell_type": "code",
   "execution_count": 1,
   "metadata": {},
   "outputs": [
    {
     "name": "stdout",
     "output_type": "stream",
     "text": [
      "Requirement already satisfied: requests in c:\\users\\hp\\appdata\\local\\programs\\python\\python313\\lib\\site-packages (2.32.3)Note: you may need to restart the kernel to use updated packages.\n",
      "\n",
      "Requirement already satisfied: beautifulsoup4 in c:\\users\\hp\\appdata\\local\\programs\\python\\python313\\lib\\site-packages (4.13.3)\n",
      "Requirement already satisfied: pandas in c:\\users\\hp\\appdata\\local\\programs\\python\\python313\\lib\\site-packages (2.2.3)\n",
      "Requirement already satisfied: charset-normalizer<4,>=2 in c:\\users\\hp\\appdata\\local\\programs\\python\\python313\\lib\\site-packages (from requests) (3.4.1)\n",
      "Requirement already satisfied: idna<4,>=2.5 in c:\\users\\hp\\appdata\\local\\programs\\python\\python313\\lib\\site-packages (from requests) (3.10)\n",
      "Requirement already satisfied: urllib3<3,>=1.21.1 in c:\\users\\hp\\appdata\\local\\programs\\python\\python313\\lib\\site-packages (from requests) (2.3.0)\n",
      "Requirement already satisfied: certifi>=2017.4.17 in c:\\users\\hp\\appdata\\local\\programs\\python\\python313\\lib\\site-packages (from requests) (2025.1.31)\n",
      "Requirement already satisfied: soupsieve>1.2 in c:\\users\\hp\\appdata\\local\\programs\\python\\python313\\lib\\site-packages (from beautifulsoup4) (2.6)\n",
      "Requirement already satisfied: typing-extensions>=4.0.0 in c:\\users\\hp\\appdata\\local\\programs\\python\\python313\\lib\\site-packages (from beautifulsoup4) (4.12.2)\n",
      "Requirement already satisfied: numpy>=1.26.0 in c:\\users\\hp\\appdata\\local\\programs\\python\\python313\\lib\\site-packages (from pandas) (2.2.3)\n",
      "Requirement already satisfied: python-dateutil>=2.8.2 in c:\\users\\hp\\appdata\\local\\programs\\python\\python313\\lib\\site-packages (from pandas) (2.9.0.post0)\n",
      "Requirement already satisfied: pytz>=2020.1 in c:\\users\\hp\\appdata\\local\\programs\\python\\python313\\lib\\site-packages (from pandas) (2025.1)\n",
      "Requirement already satisfied: tzdata>=2022.7 in c:\\users\\hp\\appdata\\local\\programs\\python\\python313\\lib\\site-packages (from pandas) (2025.1)\n",
      "Requirement already satisfied: six>=1.5 in c:\\users\\hp\\appdata\\local\\programs\\python\\python313\\lib\\site-packages (from python-dateutil>=2.8.2->pandas) (1.17.0)\n"
     ]
    },
    {
     "name": "stderr",
     "output_type": "stream",
     "text": [
      "\n",
      "[notice] A new release of pip is available: 24.3.1 -> 25.0.1\n",
      "[notice] To update, run: python.exe -m pip install --upgrade pip\n"
     ]
    }
   ],
   "source": [
    "pip install requests beautifulsoup4 pandas"
   ]
  },
  {
   "cell_type": "code",
   "execution_count": 4,
   "metadata": {},
   "outputs": [
    {
     "data": {
      "text/plain": [
       "{'Match_1': ['0.1: Boult to Rahul, no run, full on off stump, defended solidly.',\n",
       "  '0.2: Boult to Rahul, FOUR, beautiful cover drive to the boundary!',\n",
       "  '0.3: Boult to Rahul, no run, good length outside off, left alone.',\n",
       "  '0.4: Boult to Rahul, 1 run, flicked to square leg.',\n",
       "  '0.5: Boult to de Kock, no run, solid forward defense.',\n",
       "  '0.6: Boult to de Kock, FOUR, cracked through point!'],\n",
       " 'Match_2': ['0.1: Shami to Warner, no run, back of a length, defended.',\n",
       "  '0.2: Shami to Warner, FOUR, short and wide, cut away!',\n",
       "  '0.3: Shami to Warner, no run, tight line on off stump.',\n",
       "  '0.4: Shami to Warner, 1 run, nudged to mid-wicket.',\n",
       "  '0.5: Shami to Shaw, no run, blocked from the crease.',\n",
       "  '0.6: Shami to Shaw, SIX, massive hit over long-on!'],\n",
       " 'Match_3': ['0.1: Bumrah to Gaikwad, no run, good length, defended on front foot.',\n",
       "  '0.2: Bumrah to Gaikwad, FOUR, driven through covers!',\n",
       "  '0.3: Bumrah to Gaikwad, no run, beats the outside edge.',\n",
       "  '0.4: Bumrah to Gaikwad, 1 run, worked to square leg.',\n",
       "  '0.5: Bumrah to Conway, no run, bouncer, well evaded.',\n",
       "  '0.6: Bumrah to Conway, FOUR, edged past slip for a boundary!']}"
      ]
     },
     "execution_count": 4,
     "metadata": {},
     "output_type": "execute_result"
    }
   ],
   "source": [
    "{\n",
    "  \"Match_1\": [\n",
    "    \"0.1: Boult to Rahul, no run, full on off stump, defended solidly.\",\n",
    "    \"0.2: Boult to Rahul, FOUR, beautiful cover drive to the boundary!\",\n",
    "    \"0.3: Boult to Rahul, no run, good length outside off, left alone.\",\n",
    "    \"0.4: Boult to Rahul, 1 run, flicked to square leg.\",\n",
    "    \"0.5: Boult to de Kock, no run, solid forward defense.\",\n",
    "    \"0.6: Boult to de Kock, FOUR, cracked through point!\"\n",
    "  ],\n",
    "  \"Match_2\": [\n",
    "    \"0.1: Shami to Warner, no run, back of a length, defended.\",\n",
    "    \"0.2: Shami to Warner, FOUR, short and wide, cut away!\",\n",
    "    \"0.3: Shami to Warner, no run, tight line on off stump.\",\n",
    "    \"0.4: Shami to Warner, 1 run, nudged to mid-wicket.\",\n",
    "    \"0.5: Shami to Shaw, no run, blocked from the crease.\",\n",
    "    \"0.6: Shami to Shaw, SIX, massive hit over long-on!\"\n",
    "  ],\n",
    "  \"Match_3\": [\n",
    "    \"0.1: Bumrah to Gaikwad, no run, good length, defended on front foot.\",\n",
    "    \"0.2: Bumrah to Gaikwad, FOUR, driven through covers!\",\n",
    "    \"0.3: Bumrah to Gaikwad, no run, beats the outside edge.\",\n",
    "    \"0.4: Bumrah to Gaikwad, 1 run, worked to square leg.\",\n",
    "    \"0.5: Bumrah to Conway, no run, bouncer, well evaded.\",\n",
    "    \"0.6: Bumrah to Conway, FOUR, edged past slip for a boundary!\"\n",
    "  ]\n",
    "}"
   ]
  }
 ],
 "metadata": {
  "kernelspec": {
   "display_name": "Python 3",
   "language": "python",
   "name": "python3"
  },
  "language_info": {
   "codemirror_mode": {
    "name": "ipython",
    "version": 3
   },
   "file_extension": ".py",
   "mimetype": "text/x-python",
   "name": "python",
   "nbconvert_exporter": "python",
   "pygments_lexer": "ipython3",
   "version": "3.13.2"
  }
 },
 "nbformat": 4,
 "nbformat_minor": 2
}
