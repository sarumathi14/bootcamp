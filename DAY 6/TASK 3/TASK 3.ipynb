{
 "cells": [
  {
   "cell_type": "code",
   "execution_count": 6,
   "metadata": {},
   "outputs": [
    {
     "data": {
      "text/plain": [
       "{'Match_1': ['0.1: Boult to Rahul, no run, full on off stump, defended solidly.',\n",
       "  '0.2: Boult to Rahul, FOUR, beautiful cover drive to the boundary!',\n",
       "  '0.3: Boult to Rahul, no run, good length outside off, left alone.',\n",
       "  '0.4: Boult to Rahul, 1 run, flicked to square leg.',\n",
       "  '0.5: Boult to de Kock, no run, solid forward defense.',\n",
       "  '0.6: Boult to de Kock, FOUR, cracked through point!'],\n",
       " 'Match_2': ['0.1: Shami to Warner, no run, back of a length, defended.',\n",
       "  '0.2: Shami to Warner, FOUR, short and wide, cut away!',\n",
       "  '0.3: Shami to Warner, no run, tight line on off stump.',\n",
       "  '0.4: Shami to Warner, 1 run, nudged to mid-wicket.',\n",
       "  '0.5: Shami to Shaw, no run, blocked from the crease.',\n",
       "  '0.6: Shami to Shaw, SIX, massive hit over long-on!'],\n",
       " 'Match_3': ['0.1: Bumrah to Gaikwad, no run, good length, defended on front foot.',\n",
       "  '0.2: Bumrah to Gaikwad, FOUR, driven through covers!',\n",
       "  '0.3: Bumrah to Gaikwad, no run, beats the outside edge.',\n",
       "  '0.4: Bumrah to Gaikwad, 1 run, worked to square leg.',\n",
       "  '0.5: Bumrah to Conway, no run, bouncer, well evaded.',\n",
       "  '0.6: Bumrah to Conway, FOUR, edged past slip for a boundary!']}"
      ]
     },
     "execution_count": 6,
     "metadata": {},
     "output_type": "execute_result"
    }
   ],
   "source": [
    "{\n",
    "  \"Match_1\": [\n",
    "    \"0.1: Boult to Rahul, no run, full on off stump, defended solidly.\",\n",
    "    \"0.2: Boult to Rahul, FOUR, beautiful cover drive to the boundary!\",\n",
    "    \"0.3: Boult to Rahul, no run, good length outside off, left alone.\",\n",
    "    \"0.4: Boult to Rahul, 1 run, flicked to square leg.\",\n",
    "    \"0.5: Boult to de Kock, no run, solid forward defense.\",\n",
    "    \"0.6: Boult to de Kock, FOUR, cracked through point!\"\n",
    "  ],\n",
    "  \"Match_2\": [\n",
    "    \"0.1: Shami to Warner, no run, back of a length, defended.\",\n",
    "    \"0.2: Shami to Warner, FOUR, short and wide, cut away!\",\n",
    "    \"0.3: Shami to Warner, no run, tight line on off stump.\",\n",
    "    \"0.4: Shami to Warner, 1 run, nudged to mid-wicket.\",\n",
    "    \"0.5: Shami to Shaw, no run, blocked from the crease.\",\n",
    "    \"0.6: Shami to Shaw, SIX, massive hit over long-on!\"\n",
    "  ],\n",
    "  \"Match_3\": [\n",
    "    \"0.1: Bumrah to Gaikwad, no run, good length, defended on front foot.\",\n",
    "    \"0.2: Bumrah to Gaikwad, FOUR, driven through covers!\",\n",
    "    \"0.3: Bumrah to Gaikwad, no run, beats the outside edge.\",\n",
    "    \"0.4: Bumrah to Gaikwad, 1 run, worked to square leg.\",\n",
    "    \"0.5: Bumrah to Conway, no run, bouncer, well evaded.\",\n",
    "    \"0.6: Bumrah to Conway, FOUR, edged past slip for a boundary!\"\n",
    "  ]\n",
    "}\n"
   ]
  }
 ],
 "metadata": {
  "kernelspec": {
   "display_name": "Python 3",
   "language": "python",
   "name": "python3"
  },
  "language_info": {
   "codemirror_mode": {
    "name": "ipython",
    "version": 3
   },
   "file_extension": ".py",
   "mimetype": "text/x-python",
   "name": "python",
   "nbconvert_exporter": "python",
   "pygments_lexer": "ipython3",
   "version": "3.12.6"
  }
 },
 "nbformat": 4,
 "nbformat_minor": 2
}
