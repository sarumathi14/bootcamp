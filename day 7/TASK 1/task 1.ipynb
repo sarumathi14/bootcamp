{
 "cells": [
  {
   "cell_type": "code",
   "execution_count": 22,
   "metadata": {},
   "outputs": [
    {
     "name": "stdout",
     "output_type": "stream",
     "text": [
      "       country   1800   1801   1802   1803   1804   1805   1806   1807   1808  \\\n",
      "0  Afghanistan  3.28M  3.28M  3.28M  3.28M  3.28M  3.28M  3.28M  3.28M  3.28M   \n",
      "1       Angola  1.57M  1.57M  1.57M  1.57M  1.57M  1.57M  1.57M  1.57M  1.57M   \n",
      "2      Albania   400k   402k   404k   405k   407k   409k   411k   413k   414k   \n",
      "3      Andorra   2650   2650   2650   2650   2650   2650   2650   2650   2650   \n",
      "4          UAE  40.2k  40.2k  40.2k  40.2k  40.2k  40.2k  40.2k  40.2k  40.2k   \n",
      "\n",
      "   ...   2091   2092   2093   2094   2095   2096   2097   2098   2099   2100  \n",
      "0  ...   124M   125M   126M   126M   127M   128M   128M   129M   130M   130M  \n",
      "1  ...   139M   140M   142M   143M   144M   145M   147M   148M   149M   150M  \n",
      "2  ...  1.34M  1.32M   1.3M  1.29M  1.27M  1.25M  1.23M  1.22M   1.2M  1.18M  \n",
      "3  ...  52.8k  52.1k  51.5k  50.8k  50.2k  49.6k    49k  48.4k  47.8k  47.2k  \n",
      "4  ...  24.1M  24.3M  24.5M  24.7M    25M  25.2M  25.4M  25.7M  25.9M  26.1M  \n",
      "\n",
      "[5 rows x 302 columns]\n"
     ]
    },
    {
     "name": "stderr",
     "output_type": "stream",
     "text": [
      "<>:2: SyntaxWarning: invalid escape sequence '\\s'\n",
      "<>:2: SyntaxWarning: invalid escape sequence '\\s'\n",
      "C:\\Users\\sarum\\AppData\\Local\\Temp\\ipykernel_15712\\4123015891.py:2: SyntaxWarning: invalid escape sequence '\\s'\n",
      "  file_path = \"C:\\\\Users\\sarum\\OneDrive\\Desktop\\day 7\\pop.csv\"\n"
     ]
    }
   ],
   "source": [
    "import pandas as pd\n",
    "file_path = \"C:\\\\Users\\sarum\\OneDrive\\Desktop\\day 7\\pop.csv\"\n",
    "df_pop = pd.read_csv(file_path)\n",
    "print(df_pop.head())"
   ]
  }
 ],
 "metadata": {
  "kernelspec": {
   "display_name": "Python 3",
   "language": "python",
   "name": "python3"
  },
  "language_info": {
   "codemirror_mode": {
    "name": "ipython",
    "version": 3
   },
   "file_extension": ".py",
   "mimetype": "text/x-python",
   "name": "python",
   "nbconvert_exporter": "python",
   "pygments_lexer": "ipython3",
   "version": "3.12.6"
  }
 },
 "nbformat": 4,
 "nbformat_minor": 2
}
